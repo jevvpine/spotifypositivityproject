{
 "cells": [
  {
   "cell_type": "markdown",
   "metadata": {},
   "source": [
    "# Let's get Energized! Predicting the energy of songs in spotify"
   ]
  },
  {
   "cell_type": "markdown",
   "metadata": {},
   "source": [
    "## Introduction\n",
    "Spotify is one of the largest music streaming services with over [406 million users](https://newsroom.spotify.com/company-info/) amounting to [75 million monthly listeners](https://doi.org/10.1145/2959100.2959120). The success of Spotify can in part be attributed towards the collection of user data and in turn, allows for the curation of personalized playlists and recommended songs. The importance that Spotify places on data, was evident after Spotify had purchased the [music-algorithm](https://www.billboard.com/music/music-news/spotify-acquires-the-echo-nest-5930111/) start-up [Echo Nest in 2014](https://blog.echonest.com/post/78749300941/the-echo-nest-joins-spotify) for [100 million dollars](https://techcrunch.com/2014/10/19/the-sonic-mad-scientists/), which has allowed Spotify to tailor its large set of songs to its consumers. The dataset categorizes each variable into categories of: danceability, energy, key, loudness, mode, speechiness, acousticness, instrumentalness, liveness, valence and tempo (for a description for each variable check out this Spotify documentation [here](https://developer.spotify.com/documentation/web-api/reference/#/operations/get-audio-features)).\n",
    "\n",
    "\n",
    "In this project, we plan to use the variables of loudness, energy, key, speechiness, acousticness, instrumentalist, liveliness, danceability, tempo from the top 10 artists (Tiesto, Marshmello, Calvin harris, The Chainsmokers, Alan Walker, Kygo, Diplo, Daft Punk, Martin Garrix and Zedd) in the house music genre to predict the energy. Energy is the measure of intensity and activity. These variables will be derived from the Spotify developer data set (link) that lists the above variables of interest for each song."
   ]
  },
  {
   "cell_type": "markdown",
   "metadata": {},
   "source": [
    "# Preliminary exploratory data analysis:"
   ]
  },
  {
   "cell_type": "code",
   "execution_count": null,
   "metadata": {},
   "outputs": [],
   "source": []
  },
  {
   "cell_type": "markdown",
   "metadata": {},
   "source": [
    "# Methods:\n",
    "To decide which variables we will use to predict our response variable, we will use the ggpairs function to visualize and check the coefficients produced by the function to compare the feature values with each other. For predictors with the greatest correlation, we can eliminate one of the two predictors (as these are highly correlated and do not provide any new insights to predict our response variable; energy), in order to parse down the amount of computing needed to predict energy.\n",
    "\n",
    "In our report, we will assess the accuracy of the predicted energy against the testing data using RMSE (roots mean square error) and plotting the accuracy of the predictions in a scatter plot as well as a residual graph to determine how accurate our model is at predicting energy data.\n",
    "\n"
   ]
  },
  {
   "cell_type": "markdown",
   "metadata": {},
   "source": [
    "# Expected outcomes and significance:\n",
    "We expect songs that have higher energy to have a positive relationship with predictor variables such as accousticness, loudness, and tempo , as was found using the ggpairs function above to see which variables had a weak correlation of |0.4| or greater and removing any redundant predictors (predictors that shared strong correlation to each other and to energy). \n",
    "\n",
    "Our model can help recommend songs with high energy to consumers within the house music genre. We may also be able to discover which variables have the strongest correlation to energy which would help to provide a framework to predict other genres or even other variables. In addition to providing a framework, finding how strongly correlated energyis to other variables may also inform music creators and even emerging [musical robot AI](https://doi.org/10.3389/frobt.2021.647028), on the construction of songs made by popular artists within house music. These findings could lead to future questions such as what are the energy levels in music in other genres? Do the predictor variables in other genres have a stronger correlative relationship with energy than that of house music? "
   ]
  },
  {
   "cell_type": "code",
   "execution_count": null,
   "metadata": {},
   "outputs": [],
   "source": []
  }
 ],
 "metadata": {
  "kernelspec": {
   "display_name": "R",
   "language": "R",
   "name": "ir"
  },
  "language_info": {
   "codemirror_mode": "r",
   "file_extension": ".r",
   "mimetype": "text/x-r-source",
   "name": "R",
   "pygments_lexer": "r",
   "version": "4.0.0"
  }
 },
 "nbformat": 4,
 "nbformat_minor": 4
}
